{
 "cells": [
  {
   "cell_type": "code",
   "execution_count": 1,
   "id": "5d93f4ed-5051-4855-a571-18ed82999d67",
   "metadata": {},
   "outputs": [],
   "source": [
    "# Advance Numpy2!!"
   ]
  },
  {
   "cell_type": "code",
   "execution_count": 2,
   "id": "0c818da3-2891-4ed8-b1d4-b40c33699a52",
   "metadata": {},
   "outputs": [],
   "source": [
    "import numpy as np"
   ]
  },
  {
   "cell_type": "code",
   "execution_count": 3,
   "id": "4d26a99d-36a0-4e1f-851b-b424c9b159ba",
   "metadata": {},
   "outputs": [],
   "source": [
    "data = np.array([[1],[2],[3]])"
   ]
  },
  {
   "cell_type": "code",
   "execution_count": 4,
   "id": "d2beff2e-1178-467d-bef1-e41c102da342",
   "metadata": {},
   "outputs": [
    {
     "data": {
      "text/plain": [
       "2"
      ]
     },
     "execution_count": 4,
     "metadata": {},
     "output_type": "execute_result"
    }
   ],
   "source": [
    "data.ndim"
   ]
  },
  {
   "cell_type": "code",
   "execution_count": 5,
   "id": "56c31e09-b7f5-44a8-b4ef-3d7046406b39",
   "metadata": {},
   "outputs": [
    {
     "data": {
      "text/plain": [
       "array([[1],\n",
       "       [2],\n",
       "       [3]])"
      ]
     },
     "execution_count": 5,
     "metadata": {},
     "output_type": "execute_result"
    }
   ],
   "source": [
    "data"
   ]
  },
  {
   "cell_type": "code",
   "execution_count": 6,
   "id": "fdfcbb6e-3646-440d-ad37-2b785a98a709",
   "metadata": {},
   "outputs": [
    {
     "data": {
      "text/plain": [
       "array([1, 2, 3])"
      ]
     },
     "execution_count": 6,
     "metadata": {},
     "output_type": "execute_result"
    }
   ],
   "source": [
    "np.squeeze(data)"
   ]
  },
  {
   "cell_type": "code",
   "execution_count": 7,
   "id": "46f4e8f8-9bd3-4917-aaf7-af66ebdd515d",
   "metadata": {},
   "outputs": [],
   "source": [
    "a = np.squeeze(data)"
   ]
  },
  {
   "cell_type": "code",
   "execution_count": 8,
   "id": "fcd10f10-0422-4a40-ae52-f04881ed80f6",
   "metadata": {},
   "outputs": [
    {
     "data": {
      "text/plain": [
       "array([1, 2, 3])"
      ]
     },
     "execution_count": 8,
     "metadata": {},
     "output_type": "execute_result"
    }
   ],
   "source": [
    "a"
   ]
  },
  {
   "cell_type": "code",
   "execution_count": 9,
   "id": "67f95fa0-7caf-4b4b-94ab-dac9a0c25d29",
   "metadata": {},
   "outputs": [
    {
     "data": {
      "text/plain": [
       "1"
      ]
     },
     "execution_count": 9,
     "metadata": {},
     "output_type": "execute_result"
    }
   ],
   "source": [
    "a.ndim"
   ]
  },
  {
   "cell_type": "code",
   "execution_count": 10,
   "id": "ea1c8372-399e-415c-8070-c5583efa5cb3",
   "metadata": {},
   "outputs": [],
   "source": [
    "# repeat"
   ]
  },
  {
   "cell_type": "code",
   "execution_count": 11,
   "id": "2276cf48-84f4-4f6b-8e0e-c1bc9b3dd6f6",
   "metadata": {},
   "outputs": [
    {
     "data": {
      "text/plain": [
       "array([[1],\n",
       "       [2],\n",
       "       [3]])"
      ]
     },
     "execution_count": 11,
     "metadata": {},
     "output_type": "execute_result"
    }
   ],
   "source": [
    "data"
   ]
  },
  {
   "cell_type": "code",
   "execution_count": 13,
   "id": "fedd7bc5-4c5f-460e-a743-996f78db9d39",
   "metadata": {},
   "outputs": [
    {
     "data": {
      "text/plain": [
       "array([1, 1, 1, 1, 2, 2, 2, 2, 3, 3, 3, 3])"
      ]
     },
     "execution_count": 13,
     "metadata": {},
     "output_type": "execute_result"
    }
   ],
   "source": [
    "np.repeat(data,4)"
   ]
  },
  {
   "cell_type": "code",
   "execution_count": 15,
   "id": "e0c93c99-4924-43b0-b6d7-65bb101783dd",
   "metadata": {},
   "outputs": [],
   "source": [
    "a = np.array([[1,2],[3,4]])"
   ]
  },
  {
   "cell_type": "code",
   "execution_count": 16,
   "id": "e77af809-858c-4146-8d47-09884c05a26a",
   "metadata": {},
   "outputs": [
    {
     "data": {
      "text/plain": [
       "array([[1, 2],\n",
       "       [3, 4]])"
      ]
     },
     "execution_count": 16,
     "metadata": {},
     "output_type": "execute_result"
    }
   ],
   "source": [
    "a"
   ]
  },
  {
   "cell_type": "code",
   "execution_count": 17,
   "id": "c6f144b2-e5e0-4560-bac6-7b7708dd2867",
   "metadata": {},
   "outputs": [
    {
     "data": {
      "text/plain": [
       "array([1, 1, 2, 2, 3, 3, 4, 4])"
      ]
     },
     "execution_count": 17,
     "metadata": {},
     "output_type": "execute_result"
    }
   ],
   "source": [
    "np.repeat(a,2)"
   ]
  },
  {
   "cell_type": "code",
   "execution_count": 18,
   "id": "d945f821-1c7e-4498-9cdf-f3927b2b2691",
   "metadata": {},
   "outputs": [
    {
     "data": {
      "text/plain": [
       "array([[1, 1, 2, 2],\n",
       "       [3, 3, 4, 4]])"
      ]
     },
     "execution_count": 18,
     "metadata": {},
     "output_type": "execute_result"
    }
   ],
   "source": [
    "np.repeat(a,2,axis = 1)"
   ]
  },
  {
   "cell_type": "code",
   "execution_count": 19,
   "id": "cbfdb3d6-b9f6-4f44-af48-6af05c43cc70",
   "metadata": {},
   "outputs": [
    {
     "data": {
      "text/plain": [
       "array([[1, 2],\n",
       "       [1, 2],\n",
       "       [3, 4],\n",
       "       [3, 4]])"
      ]
     },
     "execution_count": 19,
     "metadata": {},
     "output_type": "execute_result"
    }
   ],
   "source": [
    "np.repeat(a,2,axis = 0)"
   ]
  },
  {
   "cell_type": "code",
   "execution_count": 20,
   "id": "7654f81e-e5fc-4ba0-bb6e-09d33a8a98e3",
   "metadata": {},
   "outputs": [
    {
     "data": {
      "text/plain": [
       "array([[1],\n",
       "       [2],\n",
       "       [3]])"
      ]
     },
     "execution_count": 20,
     "metadata": {},
     "output_type": "execute_result"
    }
   ],
   "source": [
    "data"
   ]
  },
  {
   "cell_type": "code",
   "execution_count": 23,
   "id": "a2c3f8d7-28ae-47b5-868d-051301a1fbc3",
   "metadata": {},
   "outputs": [
    {
     "data": {
      "text/plain": [
       "array([[2],\n",
       "       [3],\n",
       "       [1]])"
      ]
     },
     "execution_count": 23,
     "metadata": {},
     "output_type": "execute_result"
    }
   ],
   "source": [
    "np.roll(data,2)"
   ]
  },
  {
   "cell_type": "code",
   "execution_count": 24,
   "id": "cbc72f42-7c49-45ed-825c-ae8f85cd684a",
   "metadata": {},
   "outputs": [
    {
     "data": {
      "text/plain": [
       "array([[1, 0, 0, 0],\n",
       "       [0, 2, 0, 0],\n",
       "       [0, 0, 3, 0],\n",
       "       [0, 0, 0, 4]])"
      ]
     },
     "execution_count": 24,
     "metadata": {},
     "output_type": "execute_result"
    }
   ],
   "source": [
    "np.diag(np.array([1,2,3,4]))"
   ]
  },
  {
   "cell_type": "code",
   "execution_count": 26,
   "id": "bfee18f9-3095-41de-88ce-219fba1b380b",
   "metadata": {},
   "outputs": [],
   "source": [
    "a= np.array([[1,2],[3,4],[5,6]])"
   ]
  },
  {
   "cell_type": "code",
   "execution_count": 27,
   "id": "61d5f9f7-5890-4910-a9fc-e4847aa3ded5",
   "metadata": {},
   "outputs": [
    {
     "data": {
      "text/plain": [
       "array([[1, 2],\n",
       "       [3, 4],\n",
       "       [5, 6]])"
      ]
     },
     "execution_count": 27,
     "metadata": {},
     "output_type": "execute_result"
    }
   ],
   "source": [
    "a"
   ]
  },
  {
   "cell_type": "code",
   "execution_count": 29,
   "id": "473e8983-84b8-499e-970c-5ae5799aecb3",
   "metadata": {},
   "outputs": [
    {
     "data": {
      "text/plain": [
       "array([[2, 1],\n",
       "       [4, 3],\n",
       "       [6, 5]])"
      ]
     },
     "execution_count": 29,
     "metadata": {},
     "output_type": "execute_result"
    }
   ],
   "source": [
    "np.roll(a,1,axis = 1)"
   ]
  },
  {
   "cell_type": "code",
   "execution_count": 30,
   "id": "48362f89-1aba-4e64-ac05-709dad83238c",
   "metadata": {},
   "outputs": [],
   "source": [
    "# Binary operation in Numpy!!"
   ]
  },
  {
   "cell_type": "code",
   "execution_count": 33,
   "id": "a64a135d-e0d2-4abe-9a46-5b30b4efb61a",
   "metadata": {},
   "outputs": [],
   "source": [
    "arr1 = np.random.randint(1,10,(3,4))\n",
    "arr2 = np.random.randint(1,10,(3,4))"
   ]
  },
  {
   "cell_type": "code",
   "execution_count": 34,
   "id": "4c33b9f9-a854-45bb-90fb-62a2c4d47e43",
   "metadata": {},
   "outputs": [
    {
     "data": {
      "text/plain": [
       "array([[2, 2, 7, 4],\n",
       "       [3, 1, 4, 9],\n",
       "       [8, 4, 5, 7]])"
      ]
     },
     "execution_count": 34,
     "metadata": {},
     "output_type": "execute_result"
    }
   ],
   "source": [
    "arr1"
   ]
  },
  {
   "cell_type": "code",
   "execution_count": 35,
   "id": "502bb02c-9899-4cd1-97ab-4569fba152f2",
   "metadata": {},
   "outputs": [
    {
     "data": {
      "text/plain": [
       "array([[1, 8, 7, 8],\n",
       "       [7, 5, 9, 4],\n",
       "       [8, 2, 6, 8]])"
      ]
     },
     "execution_count": 35,
     "metadata": {},
     "output_type": "execute_result"
    }
   ],
   "source": [
    "arr2"
   ]
  },
  {
   "cell_type": "code",
   "execution_count": 36,
   "id": "74c13ae1-1a7d-44a2-adb3-da3fc4b24476",
   "metadata": {},
   "outputs": [
    {
     "data": {
      "text/plain": [
       "array([[ 3, 10, 14, 12],\n",
       "       [10,  6, 13, 13],\n",
       "       [16,  6, 11, 15]])"
      ]
     },
     "execution_count": 36,
     "metadata": {},
     "output_type": "execute_result"
    }
   ],
   "source": [
    "arr1+arr2"
   ]
  },
  {
   "cell_type": "code",
   "execution_count": 37,
   "id": "b95a00d1-d7dc-416a-86d3-dc5bf6f76647",
   "metadata": {},
   "outputs": [
    {
     "data": {
      "text/plain": [
       "array([[ 1, -6,  0, -4],\n",
       "       [-4, -4, -5,  5],\n",
       "       [ 0,  2, -1, -1]])"
      ]
     },
     "execution_count": 37,
     "metadata": {},
     "output_type": "execute_result"
    }
   ],
   "source": [
    "arr1-arr2"
   ]
  },
  {
   "cell_type": "code",
   "execution_count": 38,
   "id": "39b27947-be89-4804-b14b-c62f050a8910",
   "metadata": {},
   "outputs": [
    {
     "data": {
      "text/plain": [
       "array([[       2,      256,   823543,    65536],\n",
       "       [    2187,        1,   262144,     6561],\n",
       "       [16777216,       16,    15625,  5764801]])"
      ]
     },
     "execution_count": 38,
     "metadata": {},
     "output_type": "execute_result"
    }
   ],
   "source": [
    "arr1**arr2"
   ]
  },
  {
   "cell_type": "code",
   "execution_count": 39,
   "id": "688ba9fb-f515-45de-8668-8140fd6979e9",
   "metadata": {},
   "outputs": [
    {
     "data": {
      "text/plain": [
       "array([[ True, False, False, False],\n",
       "       [False, False, False,  True],\n",
       "       [False,  True, False, False]])"
      ]
     },
     "execution_count": 39,
     "metadata": {},
     "output_type": "execute_result"
    }
   ],
   "source": [
    "arr1>arr2"
   ]
  },
  {
   "cell_type": "code",
   "execution_count": 40,
   "id": "5884f408-ca55-4a87-be61-e39702c21648",
   "metadata": {},
   "outputs": [
    {
     "data": {
      "text/plain": [
       "array([[ -3,  -3,  -8,  -5],\n",
       "       [ -4,  -2,  -5, -10],\n",
       "       [ -9,  -5,  -6,  -8]])"
      ]
     },
     "execution_count": 40,
     "metadata": {},
     "output_type": "execute_result"
    }
   ],
   "source": [
    "~arr1"
   ]
  },
  {
   "cell_type": "code",
   "execution_count": 42,
   "id": "aea4be51-99ac-40c3-9923-91fd2e969002",
   "metadata": {},
   "outputs": [],
   "source": [
    "#Numpy String function!!"
   ]
  },
  {
   "cell_type": "code",
   "execution_count": 43,
   "id": "913a59f9-fe29-4f61-bdc1-949e06ed861a",
   "metadata": {},
   "outputs": [],
   "source": [
    "arr = np.array([\"sourabh\", \"yadav\"])"
   ]
  },
  {
   "cell_type": "code",
   "execution_count": 44,
   "id": "b4b12302-971a-471f-aa10-3842399873a0",
   "metadata": {},
   "outputs": [
    {
     "data": {
      "text/plain": [
       "array(['sourabh', 'yadav'], dtype='<U7')"
      ]
     },
     "execution_count": 44,
     "metadata": {},
     "output_type": "execute_result"
    }
   ],
   "source": [
    "arr"
   ]
  },
  {
   "cell_type": "code",
   "execution_count": 47,
   "id": "e1d3b8ad-51da-4058-948c-041474b25355",
   "metadata": {},
   "outputs": [
    {
     "data": {
      "text/plain": [
       "array(['SOURABH', 'YADAV'], dtype='<U7')"
      ]
     },
     "execution_count": 47,
     "metadata": {},
     "output_type": "execute_result"
    }
   ],
   "source": [
    "np.char.upper(arr)"
   ]
  },
  {
   "cell_type": "code",
   "execution_count": 48,
   "id": "3996d142-1423-4399-aa3a-bab3f92c8c87",
   "metadata": {},
   "outputs": [
    {
     "data": {
      "text/plain": [
       "array(['sourabh', 'yadav'], dtype='<U7')"
      ]
     },
     "execution_count": 48,
     "metadata": {},
     "output_type": "execute_result"
    }
   ],
   "source": [
    "np.char.lower(arr)"
   ]
  },
  {
   "cell_type": "code",
   "execution_count": 50,
   "id": "18e4b323-028c-4c24-84a1-8fe417c463b0",
   "metadata": {},
   "outputs": [
    {
     "data": {
      "text/plain": [
       "array(['DATA'], dtype='<U4')"
      ]
     },
     "execution_count": 50,
     "metadata": {},
     "output_type": "execute_result"
    }
   ],
   "source": [
    "np.char.upper(np.array([\"Data\"]))"
   ]
  },
  {
   "cell_type": "code",
   "execution_count": 52,
   "id": "4aa38000-3aeb-44d0-823f-2e5f220761e7",
   "metadata": {},
   "outputs": [
    {
     "data": {
      "text/plain": [
       "array(['Sourabh', 'Yadav'], dtype='<U7')"
      ]
     },
     "execution_count": 52,
     "metadata": {},
     "output_type": "execute_result"
    }
   ],
   "source": [
    "np.char.capitalize(arr)"
   ]
  },
  {
   "cell_type": "code",
   "execution_count": 53,
   "id": "276501d9-5c72-4055-8094-99de5c7284fb",
   "metadata": {},
   "outputs": [
    {
     "data": {
      "text/plain": [
       "array(['Sourabh', 'Yadav'], dtype='<U7')"
      ]
     },
     "execution_count": 53,
     "metadata": {},
     "output_type": "execute_result"
    }
   ],
   "source": [
    "np.char.title(arr)"
   ]
  },
  {
   "cell_type": "code",
   "execution_count": 54,
   "id": "1619a24a-262f-47a4-b505-e3d8b1d227dc",
   "metadata": {},
   "outputs": [],
   "source": [
    "# Mathematical functions!!"
   ]
  },
  {
   "cell_type": "code",
   "execution_count": 55,
   "id": "e0b6daa8-135c-4b57-b88d-2857e98051f3",
   "metadata": {},
   "outputs": [
    {
     "data": {
      "text/plain": [
       "array([[2, 2, 7, 4],\n",
       "       [3, 1, 4, 9],\n",
       "       [8, 4, 5, 7]])"
      ]
     },
     "execution_count": 55,
     "metadata": {},
     "output_type": "execute_result"
    }
   ],
   "source": [
    "arr1"
   ]
  },
  {
   "cell_type": "code",
   "execution_count": 56,
   "id": "8e50c821-8c1b-4d5d-a238-463ef77aedbc",
   "metadata": {},
   "outputs": [
    {
     "data": {
      "text/plain": [
       "array([[ 0.90929743,  0.90929743,  0.6569866 , -0.7568025 ],\n",
       "       [ 0.14112001,  0.84147098, -0.7568025 ,  0.41211849],\n",
       "       [ 0.98935825, -0.7568025 , -0.95892427,  0.6569866 ]])"
      ]
     },
     "execution_count": 56,
     "metadata": {},
     "output_type": "execute_result"
    }
   ],
   "source": [
    "np.sin(arr1)"
   ]
  },
  {
   "cell_type": "code",
   "execution_count": 57,
   "id": "3ab8cae4-fd64-48b4-8de1-c43279dc95f5",
   "metadata": {},
   "outputs": [
    {
     "data": {
      "text/plain": [
       "array([[-0.41614684, -0.41614684,  0.75390225, -0.65364362],\n",
       "       [-0.9899925 ,  0.54030231, -0.65364362, -0.91113026],\n",
       "       [-0.14550003, -0.65364362,  0.28366219,  0.75390225]])"
      ]
     },
     "execution_count": 57,
     "metadata": {},
     "output_type": "execute_result"
    }
   ],
   "source": [
    "np.cos(arr1)"
   ]
  },
  {
   "cell_type": "code",
   "execution_count": 60,
   "id": "1f63dc58-e3c3-4f5a-aae5-8ccb5275d734",
   "metadata": {},
   "outputs": [
    {
     "data": {
      "text/plain": [
       "array([[-2.18503986, -2.18503986,  0.87144798,  1.15782128],\n",
       "       [-0.14254654,  1.55740772,  1.15782128, -0.45231566],\n",
       "       [-6.79971146,  1.15782128, -3.38051501,  0.87144798]])"
      ]
     },
     "execution_count": 60,
     "metadata": {},
     "output_type": "execute_result"
    }
   ],
   "source": [
    "np.tan(arr1)"
   ]
  },
  {
   "cell_type": "code",
   "execution_count": 61,
   "id": "bc2850da-f597-4c20-848c-3a6418803e70",
   "metadata": {},
   "outputs": [
    {
     "data": {
      "text/plain": [
       "4.666666666666667"
      ]
     },
     "execution_count": 61,
     "metadata": {},
     "output_type": "execute_result"
    }
   ],
   "source": [
    "np.mean(arr1)"
   ]
  },
  {
   "cell_type": "code",
   "execution_count": 62,
   "id": "a25786e7-a525-4ba3-b427-42e1e0916bf9",
   "metadata": {},
   "outputs": [
    {
     "data": {
      "text/plain": [
       "9"
      ]
     },
     "execution_count": 62,
     "metadata": {},
     "output_type": "execute_result"
    }
   ],
   "source": [
    "np.max(arr1)"
   ]
  },
  {
   "cell_type": "code",
   "execution_count": 63,
   "id": "d7c5b6ce-22bb-49f7-bd32-c20352072a7b",
   "metadata": {},
   "outputs": [
    {
     "data": {
      "text/plain": [
       "2.4608038433722337"
      ]
     },
     "execution_count": 63,
     "metadata": {},
     "output_type": "execute_result"
    }
   ],
   "source": [
    "np.std(arr1)"
   ]
  },
  {
   "cell_type": "code",
   "execution_count": 64,
   "id": "4a4efbd4-c072-4816-9d4b-abe6295d7b0b",
   "metadata": {},
   "outputs": [
    {
     "data": {
      "text/plain": [
       "6.055555555555556"
      ]
     },
     "execution_count": 64,
     "metadata": {},
     "output_type": "execute_result"
    }
   ],
   "source": [
    "np.var(arr1)"
   ]
  },
  {
   "cell_type": "code",
   "execution_count": 65,
   "id": "a32a50b7-6ba9-4cbd-8eb1-2aeed355fa04",
   "metadata": {},
   "outputs": [
    {
     "data": {
      "text/plain": [
       "9"
      ]
     },
     "execution_count": 65,
     "metadata": {},
     "output_type": "execute_result"
    }
   ],
   "source": [
    "np.max(arr1)"
   ]
  },
  {
   "cell_type": "code",
   "execution_count": 66,
   "id": "bd8eae3a-0d57-42ad-8375-7c1e6be48fe2",
   "metadata": {},
   "outputs": [
    {
     "data": {
      "text/plain": [
       "array([[0.69314718, 0.69314718, 1.94591015, 1.38629436],\n",
       "       [1.09861229, 0.        , 1.38629436, 2.19722458],\n",
       "       [2.07944154, 1.38629436, 1.60943791, 1.94591015]])"
      ]
     },
     "execution_count": 66,
     "metadata": {},
     "output_type": "execute_result"
    }
   ],
   "source": [
    "np.log(arr1)"
   ]
  },
  {
   "cell_type": "code",
   "execution_count": 67,
   "id": "100f9007-4b00-4556-a9c4-246b2a3c98cb",
   "metadata": {},
   "outputs": [
    {
     "data": {
      "text/plain": [
       "array([[7.38905610e+00, 7.38905610e+00, 1.09663316e+03, 5.45981500e+01],\n",
       "       [2.00855369e+01, 2.71828183e+00, 5.45981500e+01, 8.10308393e+03],\n",
       "       [2.98095799e+03, 5.45981500e+01, 1.48413159e+02, 1.09663316e+03]])"
      ]
     },
     "execution_count": 67,
     "metadata": {},
     "output_type": "execute_result"
    }
   ],
   "source": [
    "np.exp(arr1)"
   ]
  },
  {
   "cell_type": "code",
   "execution_count": 68,
   "id": "f0c26e4f-bb8a-422b-8709-49e29140c3bb",
   "metadata": {},
   "outputs": [
    {
     "data": {
      "text/plain": [
       "array([[  8,   8, 343,  64],\n",
       "       [ 27,   1,  64, 729],\n",
       "       [512,  64, 125, 343]])"
      ]
     },
     "execution_count": 68,
     "metadata": {},
     "output_type": "execute_result"
    }
   ],
   "source": [
    "np.power(arr1,3)"
   ]
  },
  {
   "cell_type": "code",
   "execution_count": 69,
   "id": "fc62290d-00a8-4608-89c2-72f832eede1b",
   "metadata": {},
   "outputs": [
    {
     "data": {
      "text/plain": [
       "array([[ 1, -6,  0, -4],\n",
       "       [-4, -4, -5,  5],\n",
       "       [ 0,  2, -1, -1]])"
      ]
     },
     "execution_count": 69,
     "metadata": {},
     "output_type": "execute_result"
    }
   ],
   "source": [
    "arr1 - arr2"
   ]
  },
  {
   "cell_type": "code",
   "execution_count": 70,
   "id": "c19451b9-4e84-4e09-865d-c08b3ec5bff2",
   "metadata": {},
   "outputs": [
    {
     "data": {
      "text/plain": [
       "array([[ 1, -6,  0, -4],\n",
       "       [-4, -4, -5,  5],\n",
       "       [ 0,  2, -1, -1]])"
      ]
     },
     "execution_count": 70,
     "metadata": {},
     "output_type": "execute_result"
    }
   ],
   "source": [
    "np.subtract(arr1, arr2)"
   ]
  },
  {
   "cell_type": "code",
   "execution_count": 71,
   "id": "38204f9f-c14b-4eec-8388-8dd574e86080",
   "metadata": {},
   "outputs": [
    {
     "data": {
      "text/plain": [
       "array([[ 3, 10, 14, 12],\n",
       "       [10,  6, 13, 13],\n",
       "       [16,  6, 11, 15]])"
      ]
     },
     "execution_count": 71,
     "metadata": {},
     "output_type": "execute_result"
    }
   ],
   "source": [
    "np.add(arr1,arr2)"
   ]
  },
  {
   "cell_type": "code",
   "execution_count": 72,
   "id": "23fba263-428a-423a-ac75-d3c589ed59b9",
   "metadata": {},
   "outputs": [
    {
     "data": {
      "text/plain": [
       "array([[ 2, 16, 49, 32],\n",
       "       [21,  5, 36, 36],\n",
       "       [64,  8, 30, 56]])"
      ]
     },
     "execution_count": 72,
     "metadata": {},
     "output_type": "execute_result"
    }
   ],
   "source": [
    "arr1 * arr2"
   ]
  },
  {
   "cell_type": "code",
   "execution_count": 73,
   "id": "b1b8be90-99fc-4443-abbc-ee4b3801d815",
   "metadata": {},
   "outputs": [
    {
     "data": {
      "text/plain": [
       "array([[ 2, 16, 49, 32],\n",
       "       [21,  5, 36, 36],\n",
       "       [64,  8, 30, 56]])"
      ]
     },
     "execution_count": 73,
     "metadata": {},
     "output_type": "execute_result"
    }
   ],
   "source": [
    "np.multiply(arr1,arr2)"
   ]
  },
  {
   "cell_type": "code",
   "execution_count": 75,
   "id": "a629d0a7-c58c-4f35-bab8-5c80010da19b",
   "metadata": {},
   "outputs": [
    {
     "data": {
      "text/plain": [
       "array([[0, 2, 0, 4],\n",
       "       [3, 1, 4, 1],\n",
       "       [0, 0, 5, 7]])"
      ]
     },
     "execution_count": 75,
     "metadata": {},
     "output_type": "execute_result"
    }
   ],
   "source": [
    "np.mod(arr1,arr2)"
   ]
  },
  {
   "cell_type": "code",
   "execution_count": 76,
   "id": "2b75550b-0726-4ac9-b38f-7c6bfe43e9ce",
   "metadata": {},
   "outputs": [
    {
     "data": {
      "text/plain": [
       "array([[       2,      256,   823543,    65536],\n",
       "       [    2187,        1,   262144,     6561],\n",
       "       [16777216,       16,    15625,  5764801]])"
      ]
     },
     "execution_count": 76,
     "metadata": {},
     "output_type": "execute_result"
    }
   ],
   "source": [
    "np.power(arr1, arr2)"
   ]
  },
  {
   "cell_type": "code",
   "execution_count": 77,
   "id": "611fc85b-87d5-4b37-b796-ac5f8a4e4cd2",
   "metadata": {},
   "outputs": [
    {
     "data": {
      "text/plain": [
       "array([[1.41421356, 1.41421356, 2.64575131, 2.        ],\n",
       "       [1.73205081, 1.        , 2.        , 3.        ],\n",
       "       [2.82842712, 2.        , 2.23606798, 2.64575131]])"
      ]
     },
     "execution_count": 77,
     "metadata": {},
     "output_type": "execute_result"
    }
   ],
   "source": [
    "np.sqrt(arr1)"
   ]
  },
  {
   "cell_type": "code",
   "execution_count": 78,
   "id": "b849d50d-6b0a-4a42-82d6-6cf1b0b259c6",
   "metadata": {},
   "outputs": [],
   "source": [
    "# sorting searching!!"
   ]
  },
  {
   "cell_type": "code",
   "execution_count": 81,
   "id": "dd1e9ed5-7e59-4ca8-a970-1ab51cb46972",
   "metadata": {},
   "outputs": [],
   "source": [
    "arr = np.array([3,5,7,8,1,2,10,68,95,100])"
   ]
  },
  {
   "cell_type": "code",
   "execution_count": 82,
   "id": "686e560f-8ad4-46c9-8a96-1c9c13ade061",
   "metadata": {},
   "outputs": [
    {
     "data": {
      "text/plain": [
       "array([  3,   5,   7,   8,   1,   2,  10,  68,  95, 100])"
      ]
     },
     "execution_count": 82,
     "metadata": {},
     "output_type": "execute_result"
    }
   ],
   "source": [
    "arr"
   ]
  },
  {
   "cell_type": "code",
   "execution_count": 84,
   "id": "bda6ba65-33b4-448a-806f-187dc383f480",
   "metadata": {},
   "outputs": [
    {
     "data": {
      "text/plain": [
       "array([  1,   2,   3,   5,   7,   8,  10,  68,  95, 100])"
      ]
     },
     "execution_count": 84,
     "metadata": {},
     "output_type": "execute_result"
    }
   ],
   "source": [
    "np.sort(arr)"
   ]
  },
  {
   "cell_type": "code",
   "execution_count": 89,
   "id": "4870c8c8-9eba-4e0a-9066-e1d03671d06a",
   "metadata": {},
   "outputs": [
    {
     "data": {
      "text/plain": [
       "7"
      ]
     },
     "execution_count": 89,
     "metadata": {},
     "output_type": "execute_result"
    }
   ],
   "source": [
    "np.searchsorted(arr, 44)"
   ]
  },
  {
   "cell_type": "code",
   "execution_count": 90,
   "id": "d4459167-6014-4d91-b5cc-c40056d9258a",
   "metadata": {},
   "outputs": [
    {
     "data": {
      "text/plain": [
       "4"
      ]
     },
     "execution_count": 90,
     "metadata": {},
     "output_type": "execute_result"
    }
   ],
   "source": [
    "arr1 = np.array([0,1,2,3,0,4])\n",
    "np.count_nonzero(arr1)"
   ]
  },
  {
   "cell_type": "code",
   "execution_count": 91,
   "id": "5f3f439d-db7c-46d2-8fc9-e87e3c49806a",
   "metadata": {},
   "outputs": [
    {
     "data": {
      "text/plain": [
       "array([False,  True,  True,  True, False,  True])"
      ]
     },
     "execution_count": 91,
     "metadata": {},
     "output_type": "execute_result"
    }
   ],
   "source": [
    "arr1>0"
   ]
  },
  {
   "cell_type": "code",
   "execution_count": 92,
   "id": "91a0c5b0-a0ed-4dc8-9996-727fd1b84246",
   "metadata": {},
   "outputs": [
    {
     "data": {
      "text/plain": [
       "(array([1, 2, 3, 5]),)"
      ]
     },
     "execution_count": 92,
     "metadata": {},
     "output_type": "execute_result"
    }
   ],
   "source": [
    "np.where(arr1>0)"
   ]
  },
  {
   "cell_type": "code",
   "execution_count": 95,
   "id": "708a610b-4cb4-404d-98de-3fcacbddc27a",
   "metadata": {},
   "outputs": [
    {
     "data": {
      "text/plain": [
       "array([1, 2, 3, 4])"
      ]
     },
     "execution_count": 95,
     "metadata": {},
     "output_type": "execute_result"
    }
   ],
   "source": [
    "np.extract(arr1>0, arr1)"
   ]
  },
  {
   "cell_type": "code",
   "execution_count": 96,
   "id": "eaa42ab7-5bd0-4737-a983-df622e4e4c2b",
   "metadata": {},
   "outputs": [
    {
     "data": {
      "text/plain": [
       "array([                 0,  72057594037927936, 144115188075855872,\n",
       "       216172782113783808,                  0, 288230376151711744])"
      ]
     },
     "execution_count": 96,
     "metadata": {},
     "output_type": "execute_result"
    }
   ],
   "source": [
    "arr1.byteswap()"
   ]
  },
  {
   "cell_type": "code",
   "execution_count": 97,
   "id": "6e777b52-dbde-44a1-a4c7-a9ce4cc2f31f",
   "metadata": {},
   "outputs": [],
   "source": [
    "# matrix >> 2d array"
   ]
  },
  {
   "cell_type": "code",
   "execution_count": 98,
   "id": "70b36383-0599-4c8c-abd1-c9674aabbb1e",
   "metadata": {},
   "outputs": [],
   "source": [
    "import numpy.matlib as nm"
   ]
  },
  {
   "cell_type": "code",
   "execution_count": 99,
   "id": "8acf1240-bb65-4fbb-a91a-63484830e018",
   "metadata": {},
   "outputs": [
    {
     "data": {
      "text/plain": [
       "matrix([[0., 0., 0., 0., 0.]])"
      ]
     },
     "execution_count": 99,
     "metadata": {},
     "output_type": "execute_result"
    }
   ],
   "source": [
    "nm.zeros(5)"
   ]
  },
  {
   "cell_type": "code",
   "execution_count": 101,
   "id": "162dfeff-25ef-4fd6-bbb8-5d865085dbc2",
   "metadata": {},
   "outputs": [
    {
     "data": {
      "text/plain": [
       "matrix([[1., 1., 1., 1.],\n",
       "        [1., 1., 1., 1.],\n",
       "        [1., 1., 1., 1.]])"
      ]
     },
     "execution_count": 101,
     "metadata": {},
     "output_type": "execute_result"
    }
   ],
   "source": [
    "nm.ones((3,4))"
   ]
  },
  {
   "cell_type": "code",
   "execution_count": 102,
   "id": "618afc0d-545b-409f-98f7-10d1c270e62f",
   "metadata": {},
   "outputs": [],
   "source": [
    "# Numpy Linear Algebra!!"
   ]
  },
  {
   "cell_type": "code",
   "execution_count": 103,
   "id": "5ba40564-24b4-4c1e-90bd-a60ae2f7a60a",
   "metadata": {},
   "outputs": [],
   "source": [
    "arr1 = np.random.randint(1,10,(3,4))\n",
    "arr2 = np.random.randint(1,10,(3,4))"
   ]
  },
  {
   "cell_type": "code",
   "execution_count": 114,
   "id": "e3904a09-17e5-474c-8f67-058ee04ff0df",
   "metadata": {},
   "outputs": [],
   "source": [
    "arr1 = np.array([[2,3],[4,5]])\n",
    "arr2 = np.array([[1,3],[4,5]])"
   ]
  },
  {
   "cell_type": "code",
   "execution_count": null,
   "id": "e733f8e5-fcf8-4bc2-acd4-57ab53c2d7a5",
   "metadata": {},
   "outputs": [],
   "source": []
  },
  {
   "cell_type": "code",
   "execution_count": 115,
   "id": "5407f48b-5279-4548-bbed-de10b18568c0",
   "metadata": {},
   "outputs": [
    {
     "data": {
      "text/plain": [
       "array([[14, 21],\n",
       "       [24, 37]])"
      ]
     },
     "execution_count": 115,
     "metadata": {},
     "output_type": "execute_result"
    }
   ],
   "source": [
    "arr1 @ arr2"
   ]
  },
  {
   "cell_type": "code",
   "execution_count": 117,
   "id": "2ad64cb9-8a7e-444a-8eb3-54ec73fb62c4",
   "metadata": {},
   "outputs": [],
   "source": [
    "a = np.array([[7,5,-3],[3,-5,2],[5,3,-7]])"
   ]
  },
  {
   "cell_type": "code",
   "execution_count": 118,
   "id": "c416dd4f-5084-43b1-8bfd-ae9450cd606d",
   "metadata": {},
   "outputs": [
    {
     "data": {
      "text/plain": [
       "array([[ 7,  5, -3],\n",
       "       [ 3, -5,  2],\n",
       "       [ 5,  3, -7]])"
      ]
     },
     "execution_count": 118,
     "metadata": {},
     "output_type": "execute_result"
    }
   ],
   "source": [
    "a"
   ]
  },
  {
   "cell_type": "code",
   "execution_count": 119,
   "id": "b6afb6a5-7d7b-4727-8a34-9def89a6a698",
   "metadata": {},
   "outputs": [],
   "source": [
    "b = np.array([16,-8,0])"
   ]
  },
  {
   "cell_type": "code",
   "execution_count": 120,
   "id": "62fa91a7-379c-4a3a-9910-373c1b6041a1",
   "metadata": {},
   "outputs": [
    {
     "data": {
      "text/plain": [
       "array([16, -8,  0])"
      ]
     },
     "execution_count": 120,
     "metadata": {},
     "output_type": "execute_result"
    }
   ],
   "source": [
    "b"
   ]
  },
  {
   "cell_type": "code",
   "execution_count": 121,
   "id": "3c0d699f-d728-4f69-a781-d395f9077359",
   "metadata": {},
   "outputs": [
    {
     "data": {
      "text/plain": [
       "array([1., 3., 2.])"
      ]
     },
     "execution_count": 121,
     "metadata": {},
     "output_type": "execute_result"
    }
   ],
   "source": [
    "np.linalg.solve(a,b)"
   ]
  },
  {
   "cell_type": "code",
   "execution_count": 122,
   "id": "75217144-ca14-4c74-9b1f-fd41b7febf53",
   "metadata": {},
   "outputs": [
    {
     "data": {
      "text/plain": [
       "-2"
      ]
     },
     "execution_count": 122,
     "metadata": {},
     "output_type": "execute_result"
    }
   ],
   "source": [
    "5*2 - 3*4"
   ]
  },
  {
   "cell_type": "code",
   "execution_count": 123,
   "id": "dff16594-4340-4333-b2b6-737527785089",
   "metadata": {},
   "outputs": [
    {
     "data": {
      "text/plain": [
       "-2.0"
      ]
     },
     "execution_count": 123,
     "metadata": {},
     "output_type": "execute_result"
    }
   ],
   "source": [
    "np.linalg.det(arr1)"
   ]
  },
  {
   "cell_type": "code",
   "execution_count": 124,
   "id": "b535d5d2-511b-46e4-806a-cd33aa113bce",
   "metadata": {},
   "outputs": [
    {
     "data": {
      "text/plain": [
       "array([[-2.5,  1.5],\n",
       "       [ 2. , -1. ]])"
      ]
     },
     "execution_count": 124,
     "metadata": {},
     "output_type": "execute_result"
    }
   ],
   "source": [
    "np.linalg.inv(arr1)"
   ]
  },
  {
   "cell_type": "code",
   "execution_count": null,
   "id": "f87669cf-f333-45c9-891d-a926162b6369",
   "metadata": {},
   "outputs": [],
   "source": []
  }
 ],
 "metadata": {
  "kernelspec": {
   "display_name": "Python 3 (ipykernel)",
   "language": "python",
   "name": "python3"
  },
  "language_info": {
   "codemirror_mode": {
    "name": "ipython",
    "version": 3
   },
   "file_extension": ".py",
   "mimetype": "text/x-python",
   "name": "python",
   "nbconvert_exporter": "python",
   "pygments_lexer": "ipython3",
   "version": "3.10.8"
  }
 },
 "nbformat": 4,
 "nbformat_minor": 5
}
